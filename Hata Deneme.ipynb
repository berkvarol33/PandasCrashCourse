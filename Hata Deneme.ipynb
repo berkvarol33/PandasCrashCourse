{
 "cells": [
  {
   "cell_type": "markdown",
   "id": "ce1d715a",
   "metadata": {},
   "source": [
    "A error detection algorithm trial \n",
    "---"
   ]
  },
  {
   "cell_type": "markdown",
   "id": "b9c29e8c",
   "metadata": {},
   "source": [
    "importing libraries"
   ]
  },
  {
   "cell_type": "code",
   "execution_count": 94,
   "id": "10ca0753",
   "metadata": {},
   "outputs": [],
   "source": [
    "import pandas as pd"
   ]
  },
  {
   "cell_type": "markdown",
   "id": "4668c5c5",
   "metadata": {},
   "source": [
    "Excel datası kullanacakken işler değişirdi şu an yeni bi data set declare ediyorum"
   ]
  },
  {
   "cell_type": "code",
   "execution_count": 124,
   "id": "8f3be871",
   "metadata": {},
   "outputs": [],
   "source": [
    "df = pd.DataFrame({\n",
    "  'Device Name': ['A1','A1','A2','A2','A1','A1','A2','A2'],\n",
    "  'DATE':['1.1.1','1.1.1','1.1.1','1.1.1','2.1.1','2.1.1','2.1.1','2.1.1'],\n",
    "  'D': [1.234, 4.556, 7.895,5.111,1.234,6.6,4.24,7.7346],\n",
    "  'E': [2.354, 5.675, 8.905,6.333,6,2,9,1],\n",
    "  'F': [3.455, 6.785, 9.015,9.900,16,20,1,7],\n",
    "  \n",
    "})\n"
   ]
  },
  {
   "cell_type": "markdown",
   "id": "f79416d1",
   "metadata": {},
   "source": [
    "Datamız iki günlük diyelim 0 ve 1 satırları ilk güne ait 1 cihaza ait 2 tane ölçüm. 2 ve 3 ise diğer cihaza ait ilk gün ölçümleri.4-5 ikinci gün 1. cihaz, 6-7 2.gn 2.cihaz"
   ]
  },
  {
   "cell_type": "code",
   "execution_count": 125,
   "id": "f4f25f06",
   "metadata": {},
   "outputs": [
    {
     "name": "stdout",
     "output_type": "stream",
     "text": [
      "  Device Name   DATE       D      E       F\n",
      "0          A1  1.1.1  1.2340  2.354   3.455\n",
      "1          A1  1.1.1  4.5560  5.675   6.785\n",
      "2          A2  1.1.1  7.8950  8.905   9.015\n",
      "3          A2  1.1.1  5.1110  6.333   9.900\n",
      "4          A1  2.1.1  1.2340  6.000  16.000\n",
      "5          A1  2.1.1  6.6000  2.000  20.000\n",
      "6          A2  2.1.1  4.2400  9.000   1.000\n",
      "7          A2  2.1.1  7.7346  1.000   7.000\n"
     ]
    }
   ],
   "source": [
    "print(df)"
   ]
  },
  {
   "cell_type": "markdown",
   "id": "2dca9273",
   "metadata": {},
   "source": [
    "---- ilk aşamamız günün maxını bulmak-----"
   ]
  },
  {
   "cell_type": "markdown",
   "id": "b4b765a0",
   "metadata": {},
   "source": [
    "---- bunun için rearrange etmemiz gerekiyor datamızı yoksa tek tek seçmek saçma----"
   ]
  },
  {
   "cell_type": "markdown",
   "id": "61cb165b",
   "metadata": {},
   "source": [
    "yazılı kolonları silmek istiyoruz"
   ]
  },
  {
   "cell_type": "code",
   "execution_count": 126,
   "id": "c96c9738",
   "metadata": {},
   "outputs": [
    {
     "name": "stdout",
     "output_type": "stream",
     "text": [
      "  Device Name   DATE       D      E       F\n",
      "0          A1  1.1.1  1.2340  2.354   3.455\n",
      "1          A1  1.1.1  4.5560  5.675   6.785\n",
      "4          A1  2.1.1  1.2340  6.000  16.000\n",
      "5          A1  2.1.1  6.6000  2.000  20.000\n",
      "2          A2  1.1.1  7.8950  8.905   9.015\n",
      "3          A2  1.1.1  5.1110  6.333   9.900\n",
      "6          A2  2.1.1  4.2400  9.000   1.000\n",
      "7          A2  2.1.1  7.7346  1.000   7.000\n"
     ]
    }
   ],
   "source": [
    "#reordering our dataset\n",
    "order = [0,1,4,5,2,3,6,7]\n",
    "df=df.reindex(order)\n",
    "print(df)\n",
    "\n"
   ]
  },
  {
   "cell_type": "code",
   "execution_count": 127,
   "id": "b5a67b04",
   "metadata": {
    "scrolled": false
   },
   "outputs": [
    {
     "name": "stdout",
     "output_type": "stream",
     "text": [
      "        D      E       F\n",
      "0  1.2340  2.354   3.455\n",
      "1  4.5560  5.675   6.785\n",
      "4  1.2340  6.000  16.000\n",
      "5  6.6000  2.000  20.000\n",
      "2  7.8950  8.905   9.015\n",
      "3  5.1110  6.333   9.900\n",
      "6  4.2400  9.000   1.000\n",
      "7  7.7346  1.000   7.000\n"
     ]
    }
   ],
   "source": [
    "df=df.drop(columns= ['Device Name','DATE'] )\n",
    "print(df)"
   ]
  },
  {
   "cell_type": "code",
   "execution_count": 108,
   "id": "ddf3a09d",
   "metadata": {},
   "outputs": [],
   "source": [
    "#günün maxlarını bulalım şimdi\n",
    "day1_a1=df.loc[:1]\n",
    "day1_a2=df.loc[[4,5]]\n",
    "day2_A1=df.loc[[2,3]]\n",
    "day2_a2=df.loc[[6,7]]\n"
   ]
  },
  {
   "cell_type": "code",
   "execution_count": 109,
   "id": "dff6a570",
   "metadata": {},
   "outputs": [],
   "source": [
    "#günlerin maxı, her cihaz için ayrı.\n",
    "maxd1a1=day1_a1.max(axis=1)\n",
    "maxd1a2=day1_a2.max(axis=1)\n",
    "maxd2a1=day2_A1.max(axis=1)\n",
    "maxd2a2=day2_a2.max(axis=1)\n"
   ]
  },
  {
   "cell_type": "code",
   "execution_count": 110,
   "id": "c2f5dd8d",
   "metadata": {},
   "outputs": [],
   "source": [
    "\n",
    "#concat day maxes for further work\n",
    "A1maxes=pd.concat([maxd1a1,maxd2a1])\n",
    "A2maxes=pd.concat([maxd1a2,maxd2a2])\n"
   ]
  },
  {
   "cell_type": "code",
   "execution_count": 117,
   "id": "2ee2a60f",
   "metadata": {},
   "outputs": [],
   "source": [
    "#max of max\n",
    "MaxofmaxA1=A1maxes.max(axis=0)\n",
    "MinofmaxA1=A1maxes.min(axis=0)\n",
    "#min of max\n",
    "MaxofmaxA2=A2maxes.max(axis=0)\n",
    "MinofmaxA2=A2maxes.min(axis=0)\n",
    "\n"
   ]
  },
  {
   "cell_type": "markdown",
   "id": "3303ba46",
   "metadata": {},
   "source": [
    "#Ratio Analysis"
   ]
  },
  {
   "cell_type": "code",
   "execution_count": 122,
   "id": "ab2753ca",
   "metadata": {
    "scrolled": true
   },
   "outputs": [
    {
     "name": "stdout",
     "output_type": "stream",
     "text": [
      "Patlak Saha yok\n"
     ]
    }
   ],
   "source": [
    "RatioA1=100- (((MaxofmaxA1-MinofmaxA1)/(MaxofmaxA1))*100)\n",
    "RatioA2=100- (((MaxofmaxA2-MinofmaxA2)/(MaxofmaxA2))*100)\n",
    "\n",
    "if RatioA1>95 :\n",
    " print(\"Patlak saha A1\")\n",
    "if RatioA2>95:\n",
    " print(\"Patlak saha A2\")\n",
    "else:\n",
    " print(\"Patlak Saha yok\")"
   ]
  },
  {
   "cell_type": "markdown",
   "id": "60df1f7e",
   "metadata": {},
   "source": [
    "NOTES\n",
    "-----"
   ]
  },
  {
   "cell_type": "markdown",
   "id": "0fa28f31",
   "metadata": {},
   "source": [
    "-I should note everything in english not turkish\n",
    "\n",
    "-Dont go with indexes go with consolidating names and filtering"
   ]
  },
  {
   "cell_type": "code",
   "execution_count": null,
   "id": "86521ebe",
   "metadata": {},
   "outputs": [],
   "source": []
  }
 ],
 "metadata": {
  "kernelspec": {
   "display_name": "Python 3 (ipykernel)",
   "language": "python",
   "name": "python3"
  },
  "language_info": {
   "codemirror_mode": {
    "name": "ipython",
    "version": 3
   },
   "file_extension": ".py",
   "mimetype": "text/x-python",
   "name": "python",
   "nbconvert_exporter": "python",
   "pygments_lexer": "ipython3",
   "version": "3.9.13"
  }
 },
 "nbformat": 4,
 "nbformat_minor": 5
}
