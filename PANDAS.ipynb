{
  "metadata": {
    "language_info": {
      "codemirror_mode": {
        "name": "python",
        "version": 3
      },
      "file_extension": ".py",
      "mimetype": "text/x-python",
      "name": "python",
      "nbconvert_exporter": "python",
      "pygments_lexer": "ipython3",
      "version": "3.8"
    },
    "kernelspec": {
      "name": "python",
      "display_name": "Python (Pyodide)",
      "language": "python"
    }
  },
  "nbformat_minor": 4,
  "nbformat": 4,
  "cells": [
    {
      "cell_type": "markdown",
      "source": "Pandas Crash Course Prepared by Berk Varol & OpenAI ChatGPT\n-------------------------------------\n",
      "metadata": {}
    },
    {
      "cell_type": "markdown",
      "source": "\n\nPandas is a powerful and popular open-source Python library for data analysis and manipulation. It is built on top of the NumPy library and provides easy-to-use data structures and data analysis tools for working with tabular data, such as data stored in CSV or Excel files.\n\nHere is a brief crash course on using Pandas:\n\nFirst, you need to install the library by running pip install pandas in your command line or terminal.\n\nTo use Pandas in your Python code, you need to import it:",
      "metadata": {}
    },
    {
      "cell_type": "code",
      "source": "import pandas as pd",
      "metadata": {
        "trusted": true
      },
      "execution_count": 1,
      "outputs": []
    },
    {
      "cell_type": "markdown",
      "source": "The two main data structures in Pandas are the \"DataFrame\" and the *Series*.\n\nA DataFrame is a table, similar to an Excel spreadsheet, with rows and columns. \n\nA Series is a single column or row of data in a DataFrame.\n\n\n\nCREATING A DATAFRAME\n-------------------------------------------------------------------------------------------\nTo create a DataFrame, you can use the pd.DataFrame() constructor, which takes in a dictionary of lists (or other iterable objects) as its argument.\n\nThe keys of the dictionary become the column names of the DataFrame, and the values become the rows. Here is an example:",
      "metadata": {}
    },
    {
      "cell_type": "code",
      "source": "data = {\n  'name': ['John', 'Jane', 'Bob', 'Alice'],\n  'age': [24, 45, 35, 33],\n  'gender': ['M', 'F', 'M', 'F']\n}\n\ndf = pd.DataFrame(data)",
      "metadata": {
        "trusted": true
      },
      "execution_count": 2,
      "outputs": []
    },
    {
      "cell_type": "markdown",
      "source": "This creates a DataFrame with three columns ('name', 'age', 'gender') and four rows (one for each person in the data).",
      "metadata": {}
    },
    {
      "cell_type": "markdown",
      "source": "SERIES OBTAINED FROM DATAFRAMES\n---------------------------\n\nTo access a specific column of a DataFrame, you can use the [] operator and the column name:",
      "metadata": {}
    },
    {
      "cell_type": "code",
      "source": "names = df['name']\nprint (names)",
      "metadata": {
        "trusted": true
      },
      "execution_count": 5,
      "outputs": [
        {
          "name": "stdout",
          "text": "0     John\n1     Jane\n2      Bob\n3    Alice\nName: name, dtype: object\n",
          "output_type": "stream"
        }
      ]
    },
    {
      "cell_type": "markdown",
      "source": "    ",
      "metadata": {}
    },
    {
      "cell_type": "markdown",
      "source": "This returns a Series object containing the values in the 'name' column of the DataFrame.\n\nTo access a specific row of a DataFrame, you can use the loc[] method and the index of the row:",
      "metadata": {}
    },
    {
      "cell_type": "code",
      "source": "first_row = df.loc[0]\nprint (first_row)",
      "metadata": {
        "trusted": true
      },
      "execution_count": 9,
      "outputs": [
        {
          "name": "stdout",
          "text": "name      John\nage         24\ngender       M\nName: 0, dtype: object\n",
          "output_type": "stream"
        }
      ]
    },
    {
      "cell_type": "markdown",
      "source": "    ",
      "metadata": {}
    },
    {
      "cell_type": "markdown",
      "source": "This returns a Series object containing the values in the first row of the DataFrame.\n\nYou can also use the iloc[] method to access rows by their position in the DataFrame (instead of by their index):",
      "metadata": {}
    },
    {
      "cell_type": "code",
      "source": "first_row = df.iloc[0]\nprint(first_row)",
      "metadata": {
        "trusted": true
      },
      "execution_count": 8,
      "outputs": [
        {
          "name": "stdout",
          "text": "name      John\nage         24\ngender       M\nName: 0, dtype: object\n",
          "output_type": "stream"
        }
      ]
    },
    {
      "cell_type": "markdown",
      "source": "   \n  ",
      "metadata": {}
    },
    {
      "cell_type": "markdown",
      "source": "To select a subset of rows and columns from a DataFrame, you can use the loc[] or iloc[] method along with the [] operator. Here is an example that selects the 'name' and 'age' columns for the first two rows of the DataFrame:",
      "metadata": {}
    },
    {
      "cell_type": "code",
      "source": "subset = df.loc[:2, ['name', 'age']]\nprint (subset)",
      "metadata": {
        "trusted": true
      },
      "execution_count": 14,
      "outputs": [
        {
          "name": "stdout",
          "text": "   name  age\n0  John   24\n1  Jane   45\n2   Bob   35\n",
          "output_type": "stream"
        }
      ]
    },
    {
      "cell_type": "markdown",
      "source": "You can also use boolean indexing to select rows from a DataFrame based on a condition. For example, the following code selects all rows where the 'age' column is greater than or equal to 35:",
      "metadata": {}
    },
    {
      "cell_type": "code",
      "source": "selected_rows = df[df['age'] >= 35]\nprint(selected_rows)",
      "metadata": {
        "trusted": true
      },
      "execution_count": 13,
      "outputs": [
        {
          "name": "stdout",
          "text": "   name  age gender\n1  Jane   45      F\n2   Bob   35      M\n",
          "output_type": "stream"
        }
      ]
    },
    {
      "cell_type": "markdown",
      "source": "\n\n\n\n\n\n\n\n\n\nELEMENTWISE OPERATIONS ON PANDAS\n--------------------------\n",
      "metadata": {}
    },
    {
      "cell_type": "markdown",
      "source": "Pandas provides several ways to perform element-wise operations on data in a DataFrame or Series.\n\nOne way is to use the apply() method, which applies a function to each element of a DataFrame or Series. Here is an example that applies the len() function to each element in a Series of strings:\n\n",
      "metadata": {}
    },
    {
      "cell_type": "code",
      "source": "\n# Create a Series of strings\ns = pd.Series(['apple', 'banana', 'cherry', 'durian'])\n\n# Apply the len() function to each element in the Series\ns_lengths = s.apply(len)\n\n# Print the resulting Series\nprint(s_lengths)",
      "metadata": {
        "trusted": true
      },
      "execution_count": 15,
      "outputs": [
        {
          "name": "stdout",
          "text": "0    5\n1    6\n2    6\n3    6\ndtype: int64\n",
          "output_type": "stream"
        }
      ]
    },
    {
      "cell_type": "markdown",
      "source": "Another way to perform element-wise operations is to use the map() method, which applies a function to each element of a Series and returns a new Series containing the transformed values. This is similar to the apply() method, but it is faster and more concise. Here is an example that uses the map() method to convert the strings in a Series to uppercase:",
      "metadata": {}
    },
    {
      "cell_type": "code",
      "source": "# Create a Series of strings\ns = pd.Series(['apple', 'banana', 'cherry', 'durian'])\n\n# Convert the strings to uppercase using the map() method\ns_upper = s.map(str.upper)\n\n# Print the resulting Series\nprint(s_upper)",
      "metadata": {
        "trusted": true
      },
      "execution_count": 16,
      "outputs": [
        {
          "name": "stdout",
          "text": "0     APPLE\n1    BANANA\n2    CHERRY\n3    DURIAN\ndtype: object\n",
          "output_type": "stream"
        }
      ]
    },
    {
      "cell_type": "markdown",
      "source": "Another way to perform element-wise operations is to use the applymap() method, which applies a function to each element of a DataFrame. This is similar to the apply() method, but it applies the function to each element of the DataFrame instead of applying it to the entire DataFrame or Series. Here is an example that uses the applymap() method to round the values in a DataFrame to two decimal places:",
      "metadata": {}
    },
    {
      "cell_type": "code",
      "source": "# Create a DataFrame\ndf = pd.DataFrame({\n  'A': [1.234, 4.556, 7.895],\n  'B': [2.354, 5.675, 8.905],\n  'C': [3.455, 6.785, 9.015]\n})\n\n# Round the values in the DataFrame to two decimal places\ndf_rounded = df.applymap(lambda x: round(x, 2))\n\n# Print the resulting DataFrame\nprint(df_rounded)",
      "metadata": {
        "trusted": true
      },
      "execution_count": 20,
      "outputs": [
        {
          "name": "stdout",
          "text": "      A     B     C\n0  1.23  2.35  3.46\n1  4.56  5.67  6.79\n2  7.89  8.90  9.02\n",
          "output_type": "stream"
        }
      ]
    },
    {
      "cell_type": "markdown",
      "source": "FINDING MAXIMUM OF A ROW/COLUMN (We will be using this actively a lot)\n-------------------------",
      "metadata": {}
    },
    {
      "cell_type": "markdown",
      "source": "To find the maximum value in a row of a DataFrame in Pandas, you can use the max() method along with the axis parameter, which specifies whether to find the maximum value along the rows or columns.\naxis=0 max on a column \naxis=1 max on a row\n\nHere is an example that uses the max() method to find the maximum value in each row of a DataFrame:",
      "metadata": {}
    },
    {
      "cell_type": "code",
      "source": "# Create a DataFrame\ndf = pd.DataFrame({\n  'A': [1, 4, 7],\n  'B': [2, 5, 8],\n  'C': [3, 6, 9]\n})\n\n# Find the maximum value in each row\nmax_values = df.max(axis=1) #axis = 0 dersem column maxi buluyor!!!!!!!!!!!!!!!!!!!\n\n# Print the resulting Series\nprint(max_values)",
      "metadata": {
        "trusted": true
      },
      "execution_count": 25,
      "outputs": [
        {
          "name": "stdout",
          "text": "0    3\n1    6\n2    9\ndtype: int64\n",
          "output_type": "stream"
        }
      ]
    },
    {
      "cell_type": "markdown",
      "source": "Alternatively, you can use the idxmax() method to find the column label of the maximum value in each row. Here is an example that uses the idxmax() method to find the column labels of the maximum value in each row:",
      "metadata": {}
    },
    {
      "cell_type": "code",
      "source": "# Create a DataFrame\ndf = pd.DataFrame({\n  'A': [1, 4, 7],\n  'B': [2, 5, 8],\n  'C': [3, 6, 9]\n})\n\n# Find the column labels of the maximum value in each row\nmax_labels = df.idxmax(axis=1)\n\n# Print the resulting Series\nprint(max_labels)",
      "metadata": {
        "trusted": true
      },
      "execution_count": 26,
      "outputs": [
        {
          "name": "stdout",
          "text": "0    C\n1    C\n2    C\ndtype: object\n",
          "output_type": "stream"
        }
      ]
    },
    {
      "cell_type": "markdown",
      "source": "Note that the max() and idxmax() methods return the maximum value and its corresponding row label for each column by default. If you want to find the maximum value and its corresponding row label for each row instead, you can set the axis parameter to 1 instead of 0.",
      "metadata": {}
    },
    {
      "cell_type": "markdown",
      "source": "FINDING MIN OF A ROW/COLUMN\n---------------------------\n\n\nTo find the minimum value in a column of a DataFrame in Pandas, you can use the min() method along with the axis parameter, which specifies whether to find the minimum value along the rows or columns.\n\nHere is an example that uses the min() method to find the minimum value in each column of a DataFrame:",
      "metadata": {}
    },
    {
      "cell_type": "code",
      "source": "# Find the minimum value in each column\nmin_values = df.min(axis=1)\n\n# Print the resulting Series\nprint(min_values)",
      "metadata": {
        "trusted": true
      },
      "execution_count": 32,
      "outputs": [
        {
          "name": "stdout",
          "text": "0    1\n1    4\n2    7\ndtype: int64\n",
          "output_type": "stream"
        }
      ]
    },
    {
      "cell_type": "markdown",
      "source": "Alternatively, you can use the idxmin() method to find the row label of the minimum value in each column. Here is an example that uses the idxmin() method to find the row labels of the minimum value in each column:\n\n",
      "metadata": {
        "jp-MarkdownHeadingCollapsed": true
      }
    },
    {
      "cell_type": "code",
      "source": "# Find the row labels of the minimum value in each column\nmin_labels = df.idxmin(axis=1)\n\n# Print the resulting Series\nprint(min_labels)",
      "metadata": {
        "jp-MarkdownHeadingCollapsed": true,
        "trusted": true
      },
      "execution_count": 34,
      "outputs": [
        {
          "name": "stdout",
          "text": "0    A\n1    A\n2    A\ndtype: object\n",
          "output_type": "stream"
        }
      ]
    },
    {
      "cell_type": "markdown",
      "source": "Note that the min() and idxmin() methods return the minimum value and its corresponding row label for each column by default. If you want to find the minimum value and its corresponding row label for each row instead, you can set the axis parameter to 1 instead of 0.\n",
      "metadata": {
        "jp-MarkdownHeadingCollapsed": true
      }
    },
    {
      "cell_type": "markdown",
      "source": "AVERAGE OF A COLUMN OR ROW \n--------------------------",
      "metadata": {}
    },
    {
      "cell_type": "markdown",
      "source": "To find the average of the values in a column of a DataFrame in Pandas, you can use the mean() method along with the axis parameter, which specifies whether to find the average along the rows or columns.\n\nHere is an example that uses the mean() method to find the average of the values in each column of a DataFrame:",
      "metadata": {}
    },
    {
      "cell_type": "code",
      "source": "# Create a DataFrame\ndf = pd.DataFrame({\n  'A': [1, 4, 7],\n  'B': [2, 5, 8],\n  'C': [3, 6, 9]\n})\n\n# Find the average of the values in each column\navg_values = df.mean(axis=0)\n\n# Print the resulting Series\nprint(avg_values)",
      "metadata": {
        "trusted": true
      },
      "execution_count": 28,
      "outputs": [
        {
          "name": "stdout",
          "text": "A    4.0\nB    5.0\nC    6.0\ndtype: float64\n",
          "output_type": "stream"
        }
      ]
    },
    {
      "cell_type": "code",
      "source": "\n# Find the average of the values in each ROW\navg_values = df.mean(axis=1)\n\n# Print the resulting Series\nprint(avg_values)",
      "metadata": {
        "trusted": true
      },
      "execution_count": 35,
      "outputs": [
        {
          "name": "stdout",
          "text": "0    2.0\n1    5.0\n2    8.0\ndtype: float64\n",
          "output_type": "stream"
        }
      ]
    },
    {
      "cell_type": "markdown",
      "source": "NUMERICAL OPERATIONS BETWEEN ROWS & COLLUMNS (we will use this a lot aswell)\n-----------------------------",
      "metadata": {}
    },
    {
      "cell_type": "markdown",
      "source": "To perform numerical operations between the values in different rows of a DataFrame in Pandas, you can use the apply() method along with the axis parameter, which specifies whether to apply the function to the rows or columns of the DataFrame.\n\nHere is an example that uses the apply() method to subtract the values in the first row of a DataFrame from the values in the second row:",
      "metadata": {}
    },
    {
      "cell_type": "code",
      "source": "# Create a DataFrame\ndf = pd.DataFrame({\n  'A': [1, 4, 7],\n  'B': [2, 5, 8],\n  'C': [3, 6, 9]\n})\n\n# Subtract the values in the first row from the values in the second row\ndifferences = df.apply(lambda row: row[1] - row[0], axis=0) #böyle tek tek de oluyor\nsums =df.apply(lambda row:sum(row), axis=1) #böyle de sumlayabiliyosun!!!!!!!\n# Print the resulting Series\nprint(sums)",
      "metadata": {
        "trusted": true
      },
      "execution_count": 47,
      "outputs": [
        {
          "name": "stdout",
          "text": "0     6\n1    15\n2    24\ndtype: int64\n",
          "output_type": "stream"
        }
      ]
    },
    {
      "cell_type": "markdown",
      "source": "Note that the apply() method applies the function to each row by default (when axis=1). If you want to apply the function to each column instead, you can set the axis parameter to 0.\n\nAnother way to perform numerical operations between the values in different rows of a DataFrame is to use the sub(), mul(), div(), and other arithmetic methods, which perform element-wise arithmetic operations between DataFrames ",
      "metadata": {}
    },
    {
      "cell_type": "markdown",
      "source": "MULTIPLYING OR DIVIDING EACH ROW/ COLUMN WITH A VARIABLE\n---------------------------",
      "metadata": {}
    },
    {
      "cell_type": "markdown",
      "source": "To multiply or divide each row or column of a DataFrame in Pandas by a variable, you can use the mul() or div() methods, respectively, along with the axis parameter, which specifies whether to apply the operation along the rows or columns of the DataFrame.\n\nHere is an example that uses the mul() method to multiply each row of a DataFrame by a variable:",
      "metadata": {}
    },
    {
      "cell_type": "code",
      "source": "# Create a DataFrame\ndf = pd.DataFrame({\n  'A': [1, 4, 7],\n  'B': [2, 5, 8],\n  'C': [3, 6, 9]\n})\n\n# Multiply each row of the DataFrame by 2\ndf_mul = df.mul(2, axis=1)\n\n# Print the resulting DataFrame\nprint(df_mul)",
      "metadata": {
        "trusted": true
      },
      "execution_count": 43,
      "outputs": [
        {
          "name": "stdout",
          "text": "    A   B   C\n0   2   4   6\n1   8  10  12\n2  14  16  18\n",
          "output_type": "stream"
        }
      ]
    },
    {
      "cell_type": "markdown",
      "source": "Similarly, you can use the div() method to divide each row of a DataFrame by a variable:",
      "metadata": {}
    },
    {
      "cell_type": "code",
      "source": "# Divide each row of the DataFrame by 2\ndf_div = df.div(2, axis=1)\n\n# Print the resulting DataFrame\nprint(df_div)",
      "metadata": {
        "trusted": true
      },
      "execution_count": 44,
      "outputs": [
        {
          "name": "stdout",
          "text": "     A    B    C\n0  0.5  1.0  1.5\n1  2.0  2.5  3.0\n2  3.5  4.0  4.5\n",
          "output_type": "stream"
        }
      ]
    },
    {
      "cell_type": "markdown",
      "source": "Note that the mul() and div() methods apply the operation along the rows of the DataFrame by default (when axis=1). If you want to apply the operation along the columns instead, you can set the axis parameter to 0.\n\nAnother way to multiply or divide each row or column of a DataFrame by a variable is to use the * or / operators, respectively. For example, the following code multiplies each row of a DataFrame by 2 using the * operator:",
      "metadata": {}
    },
    {
      "cell_type": "code",
      "source": "# Multiply each row of the DataFrame by 2\ndf_mul = df.apply(lambda row: row * 2, axis=1)\n\n# Print the resulting DataFrame\nprint(df_mul)",
      "metadata": {
        "trusted": true
      },
      "execution_count": 48,
      "outputs": [
        {
          "name": "stdout",
          "text": "    A   B   C\n0   2   4   6\n1   8  10  12\n2  14  16  18\n",
          "output_type": "stream"
        }
      ]
    },
    {
      "cell_type": "markdown",
      "source": "HOW TO USE .XLSL DOCS AS DATAFRAMES\n--------------------------\n",
      "metadata": {}
    },
    {
      "cell_type": "markdown",
      "source": "To use an Excel file as a DataFrame in Pandas, you can use the read_excel() method of the pandas library. This method takes the Excel file as its input and returns a DataFrame that you can use to perform various operations, such as selecting, filtering, sorting, and more.\n\nHere is an example that shows how to use the read_excel() method to create a DataFrame from an Excel file:\n\n",
      "metadata": {}
    },
    {
      "cell_type": "code",
      "source": "import pandas as pd\n\n# Read the Excel file into a DataFrame\ndf = pd.read_excel('data.xlsx')\n\n# Print the first 5 rows of the DataFrame\nprint(df.head())",
      "metadata": {},
      "execution_count": null,
      "outputs": []
    },
    {
      "cell_type": "markdown",
      "source": "This code assumes that the Excel file is called data.xlsx and is located in the same directory as the Python script. If the file is located in a different directory, you can specify the full path to the file as the input to the read_excel() method.\n\nNote that the read_excel() method reads the first sheet of the Excel file by default. If you want to read a different sheet from the file, you can specify the sheet name or index as the sheet_name parameter of the read_excel() method. For example, the following code reads the second sheet of an Excel file and prints the first 5 rows of the resulting DataFrame:",
      "metadata": {}
    },
    {
      "cell_type": "code",
      "source": "# Read the second sheet of the Excel file into a DataFrame\ndf = pd.read_excel('data.xlsx', sheet_name=1)\n\n# Print the first 5 rows of the DataFrame\nprint(df.head())",
      "metadata": {},
      "execution_count": null,
      "outputs": []
    },
    {
      "cell_type": "markdown",
      "source": "If you want to read multiple sheets from an Excel file, you can use the 'pandas.ExcelFile' class, which provides a way to iterate over the sheets of an Excel file. Here is an example that shows how to use the ExcelFile class to read all the sheets of an Excel file and print the first 5 rows of each sheet:",
      "metadata": {}
    },
    {
      "cell_type": "code",
      "source": "# Open the Excel file\nexcel_file = pd.ExcelFile('data.xlsx')\n\n# Iterate over the sheets of the Excel file\nfor sheet_name in excel_file.sheet_names:\n  # Read the current sheet into a DataFrame\n  df = excel_file.parse(sheet_name)\n\n  # Print the first 5 rows of the DataFrame\n  print(df.head())",
      "metadata": {},
      "execution_count": null,
      "outputs": []
    }
  ]
}